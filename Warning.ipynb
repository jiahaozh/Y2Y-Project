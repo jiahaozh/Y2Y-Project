{
 "cells": [
  {
   "cell_type": "code",
   "execution_count": 1,
   "metadata": {
    "collapsed": true
   },
   "outputs": [],
   "source": [
    "import pandas as pd\n",
    "from collections import Counter"
   ]
  },
  {
   "cell_type": "code",
   "execution_count": 2,
   "metadata": {
    "collapsed": true
   },
   "outputs": [],
   "source": [
    "complains = pd.read_csv('consData.csv')"
   ]
  },
  {
   "cell_type": "code",
   "execution_count": 3,
   "metadata": {
    "collapsed": true
   },
   "outputs": [],
   "source": [
    "complainsList = complains['Contact ID'].tolist()\n",
    "countComplains = Counter(complainsList)"
   ]
  },
  {
   "cell_type": "code",
   "execution_count": 4,
   "metadata": {
    "collapsed": true
   },
   "outputs": [],
   "source": [
    "contactId = pd.read_excel('Contact_ID.xlsx')"
   ]
  },
  {
   "cell_type": "code",
   "execution_count": 5,
   "metadata": {
    "collapsed": true
   },
   "outputs": [],
   "source": [
    "contactId\n",
    "fName = contactId['First Name'].tolist()\n",
    "lInitial = contactId['Last Initial'].tolist()\n",
    "contId = contactId['Contact ID'].tolist()"
   ]
  },
  {
   "cell_type": "code",
   "execution_count": 6,
   "metadata": {
    "collapsed": true
   },
   "outputs": [],
   "source": [
    "nameDict = {}\n",
    "for i in range(len(fName)):\n",
    "    try:\n",
    "        fullName = fName[i] + ' ' + lInitial[i]\n",
    "        nameDict[contId[i]] = fullName\n",
    "    except:\n",
    "        pass"
   ]
  },
  {
   "cell_type": "code",
   "execution_count": 48,
   "metadata": {
    "collapsed": true
   },
   "outputs": [],
   "source": [
    "complainsDict = {}\n",
    "for key in countComplains:\n",
    "    try:\n",
    "        name = nameDict[key]\n",
    "        complainsDict[name] = countComplains[key]\n",
    "    except:\n",
    "        continue"
   ]
  },
  {
   "cell_type": "code",
   "execution_count": 30,
   "metadata": {
    "collapsed": true
   },
   "outputs": [],
   "source": [
    "# for old Data Set\n",
    "oldCons = pd.read_csv('consOld.csv')\n",
    "oldFirstName = oldCons['Unnamed: 2'].tolist()\n",
    "oldLastName = oldCons['Unnamed: 3'].tolist()"
   ]
  },
  {
   "cell_type": "code",
   "execution_count": 38,
   "metadata": {
    "collapsed": true
   },
   "outputs": [],
   "source": [
    "oldNameList = []\n",
    "for i in range(len(oldFirstName)):\n",
    "    try:\n",
    "        name = oldFirstName[i] + ' ' + oldLastName[i][0]\n",
    "        oldNameList.append(name)\n",
    "    except:\n",
    "        continue"
   ]
  },
  {
   "cell_type": "code",
   "execution_count": 51,
   "metadata": {
    "collapsed": true
   },
   "outputs": [],
   "source": [
    "oldComplainsCounter = Counter(oldNameList)"
   ]
  },
  {
   "cell_type": "code",
   "execution_count": 52,
   "metadata": {
    "collapsed": true
   },
   "outputs": [],
   "source": [
    "for key in oldComplainsCounter:\n",
    "    if key in complainsDict:\n",
    "        complainsDict[key] = int(complainsDict[key]) + int(oldComplainsCounter[key])\n",
    "    else:\n",
    "        complainsDict[key] = int(oldComplainsCounter[key])"
   ]
  },
  {
   "cell_type": "code",
   "execution_count": 53,
   "metadata": {},
   "outputs": [
    {
     "data": {
      "text/plain": [
       "215"
      ]
     },
     "execution_count": 53,
     "metadata": {},
     "output_type": "execute_result"
    }
   ],
   "source": [
    "len(complainsDict)"
   ]
  },
  {
   "cell_type": "code",
   "execution_count": 57,
   "metadata": {
    "collapsed": true
   },
   "outputs": [],
   "source": [
    "listAllNames = pd.read_csv('Allname.csv')\n",
    "listAllNames = listAllNames['Name'].tolist()"
   ]
  },
  {
   "cell_type": "code",
   "execution_count": 58,
   "metadata": {
    "collapsed": true
   },
   "outputs": [],
   "source": [
    "finalCountDict = {}\n",
    "for key in listAllNames:\n",
    "    if key in complainsDict:\n",
    "        finalCountDict[key] = complainsDict[key]\n",
    "    else:\n",
    "        finalCountDict[key]= 0"
   ]
  },
  {
   "cell_type": "code",
   "execution_count": 62,
   "metadata": {
    "collapsed": true
   },
   "outputs": [],
   "source": [
    "df = pd.DataFrame.from_dict(finalCountDict, orient=\"index\")\n",
    "df.to_csv(\"complainsCount.csv\")"
   ]
  }
 ],
 "metadata": {
  "kernelspec": {
   "display_name": "Python 3",
   "language": "python",
   "name": "python3"
  },
  "language_info": {
   "codemirror_mode": {
    "name": "ipython",
    "version": 3
   },
   "file_extension": ".py",
   "mimetype": "text/x-python",
   "name": "python",
   "nbconvert_exporter": "python",
   "pygments_lexer": "ipython3",
   "version": "3.6.1"
  }
 },
 "nbformat": 4,
 "nbformat_minor": 2
}
